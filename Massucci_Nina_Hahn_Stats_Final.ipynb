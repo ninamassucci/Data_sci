{
  "cells": [
    {
      "cell_type": "markdown",
      "metadata": {
        "id": "view-in-github",
        "colab_type": "text"
      },
      "source": [
        "<a href=\"https://colab.research.google.com/github/ninamassucci/Data_sci/blob/main/Massucci_Nina_Hahn_Stats_Final.ipynb\" target=\"_parent\"><img src=\"https://colab.research.google.com/assets/colab-badge.svg\" alt=\"Open In Colab\"/></a>"
      ]
    },
    {
      "cell_type": "markdown",
      "source": [
        "# STA 2023 Final Project\n",
        "## Directions:\n",
        "\n",
        "1) Replace the image dataset in the google slides with your own data.\n",
        "\n",
        "2) Comment and explain all code to the best of your ability.\n",
        "\n",
        "3) Run your model 3 times. \n",
        "\n",
        "4) Report best, worst, and average of the three runs. \n",
        "\n",
        "\n",
        "\n",
        "\n",
        "Use any and all resources available to you.\n",
        "\n",
        "Comment and explain the code.\n",
        "\n",
        "Answer the questions to the best of your abilities.\n",
        "\n",
        "If you have any questions, txt 561-479-8123\n",
        "\n",
        "Save this notebook to your GitHub and submit the link on Canvas\n"
      ],
      "metadata": {
        "id": "vU-T5aoAhMBC"
      }
    },
    {
      "cell_type": "code",
      "execution_count": 23,
      "metadata": {
        "id": "MJjTOJXQY7L2"
      },
      "outputs": [],
      "source": [
        "%%capture\n",
        "!pip install wandb\n",
        "!apt-get install poppler-utils\n",
        "!pip install pdf2image\n",
        "!pip install flashtorch\n",
        "import requests\n",
        "from pdf2image import convert_from_path\n",
        "import matplotlib.pyplot as plt\n",
        "import numpy as np\n",
        "import torch\n",
        "import requests\n",
        "from torchvision import *\n",
        "from torchvision.models import *\n",
        "from flashtorch.utils import apply_transforms\n",
        "import wandb as wb"
      ]
    },
    {
      "cell_type": "code",
      "execution_count": 24,
      "metadata": {
        "id": "OcM-MSMRmAXL"
      },
      "outputs": [],
      "source": [
        "def GPU(data):\n",
        "    return torch.tensor(data, requires_grad=True, dtype=torch.float, device=torch.device('cuda'))\n",
        "\n",
        "def GPU_data(data):\n",
        "    return torch.tensor(data, requires_grad=False, dtype=torch.float, device=torch.device('cuda'))\n",
        "\n",
        "def plot(x):\n",
        "    fig, ax = plt.subplots()\n",
        "    im = ax.imshow(x, cmap = 'gray')\n",
        "    ax.axis('off')\n",
        "    fig.set_size_inches(5, 5)\n",
        "    plt.show()\n",
        "    \n",
        "def get_google_slide(url):\n",
        "    url_head = \"https://docs.google.com/presentation/d/\"\n",
        "    url_body = url.split('/')[5]\n",
        "    page_id = url.split('.')[-1]\n",
        "    return url_head + url_body + \"/export/pdf?id=\" + url_body + \"&pageid=\" + page_id\n",
        "\n",
        "def get_slides(url):\n",
        "    url = get_google_slide(url)\n",
        "    r = requests.get(url, allow_redirects=True)\n",
        "    open('file.pdf', 'wb').write(r.content)\n",
        "    images = convert_from_path('file.pdf', 500)\n",
        "    return images\n",
        "\n",
        "def load(image):\n",
        "\n",
        "    return apply_transforms(image).clone().detach().requires_grad_(True).to(device)\n",
        "\n",
        "device = torch.device(\"cuda:0\" if torch.cuda.is_available() else \"cpu\")"
      ]
    },
    {
      "cell_type": "code",
      "execution_count": 25,
      "metadata": {
        "id": "opN3hI0lemBV"
      },
      "outputs": [],
      "source": [
        "labels = {int(key):value for (key, value) in requests.get('https://s3.amazonaws.com/mlpipes/pytorch-quick-start/labels.json').json().items()}\n",
        "\n",
        "model = alexnet(weights='DEFAULT').to(device)\n",
        "model.eval();"
      ]
    },
    {
      "cell_type": "code",
      "execution_count": 26,
      "metadata": {
        "id": "2EnZVMTqiqwz"
      },
      "outputs": [],
      "source": [
        "url = \"https://docs.google.com/presentation/d/1ns6pB3o_1a2hsIClDWk5eb7Q4Ff2dtLqUqNBz6vl4AU/edit?usp=sharing\""
      ]
    },
    {
      "cell_type": "code",
      "execution_count": 27,
      "metadata": {
        "colab": {
          "base_uri": "https://localhost:8080/",
          "height": 1000
        },
        "id": "h7MhH8hrR3AE",
        "outputId": "326e863e-35cf-4ca6-eda6-bfcd155bfe00"
      },
      "outputs": [
        {
          "output_type": "error",
          "ename": "PDFPageCountError",
          "evalue": "ignored",
          "traceback": [
            "\u001b[0;31m---------------------------------------------------------------------------\u001b[0m",
            "\u001b[0;31mValueError\u001b[0m                                Traceback (most recent call last)",
            "\u001b[0;32m/usr/local/lib/python3.8/dist-packages/pdf2image/pdf2image.py\u001b[0m in \u001b[0;36mpdfinfo_from_path\u001b[0;34m(pdf_path, userpw, poppler_path, rawdates, timeout)\u001b[0m\n\u001b[1;32m    478\u001b[0m         \u001b[0;32mif\u001b[0m \u001b[0;34m\"Pages\"\u001b[0m \u001b[0;32mnot\u001b[0m \u001b[0;32min\u001b[0m \u001b[0md\u001b[0m\u001b[0;34m:\u001b[0m\u001b[0;34m\u001b[0m\u001b[0;34m\u001b[0m\u001b[0m\n\u001b[0;32m--> 479\u001b[0;31m             \u001b[0;32mraise\u001b[0m \u001b[0mValueError\u001b[0m\u001b[0;34m\u001b[0m\u001b[0;34m\u001b[0m\u001b[0m\n\u001b[0m\u001b[1;32m    480\u001b[0m \u001b[0;34m\u001b[0m\u001b[0m\n",
            "\u001b[0;31mValueError\u001b[0m: ",
            "\nDuring handling of the above exception, another exception occurred:\n",
            "\u001b[0;31mPDFPageCountError\u001b[0m                         Traceback (most recent call last)",
            "\u001b[0;32m<ipython-input-27-a35f91e6c465>\u001b[0m in \u001b[0;36m<module>\u001b[0;34m\u001b[0m\n\u001b[1;32m      1\u001b[0m \u001b[0mimages\u001b[0m \u001b[0;34m=\u001b[0m \u001b[0;34m[\u001b[0m\u001b[0;34m]\u001b[0m\u001b[0;34m\u001b[0m\u001b[0;34m\u001b[0m\u001b[0m\n\u001b[1;32m      2\u001b[0m \u001b[0;34m\u001b[0m\u001b[0m\n\u001b[0;32m----> 3\u001b[0;31m \u001b[0;32mfor\u001b[0m \u001b[0mimage\u001b[0m \u001b[0;32min\u001b[0m \u001b[0mget_slides\u001b[0m\u001b[0;34m(\u001b[0m\u001b[0murl\u001b[0m\u001b[0;34m)\u001b[0m\u001b[0;34m:\u001b[0m\u001b[0;34m\u001b[0m\u001b[0;34m\u001b[0m\u001b[0m\n\u001b[0m\u001b[1;32m      4\u001b[0m \u001b[0;34m\u001b[0m\u001b[0m\n\u001b[1;32m      5\u001b[0m     \u001b[0mplot\u001b[0m\u001b[0;34m(\u001b[0m\u001b[0mimage\u001b[0m\u001b[0;34m)\u001b[0m\u001b[0;34m\u001b[0m\u001b[0;34m\u001b[0m\u001b[0m\n",
            "\u001b[0;32m<ipython-input-24-4608b466ff03>\u001b[0m in \u001b[0;36mget_slides\u001b[0;34m(url)\u001b[0m\n\u001b[1;32m     22\u001b[0m     \u001b[0mr\u001b[0m \u001b[0;34m=\u001b[0m \u001b[0mrequests\u001b[0m\u001b[0;34m.\u001b[0m\u001b[0mget\u001b[0m\u001b[0;34m(\u001b[0m\u001b[0murl\u001b[0m\u001b[0;34m,\u001b[0m \u001b[0mallow_redirects\u001b[0m\u001b[0;34m=\u001b[0m\u001b[0;32mTrue\u001b[0m\u001b[0;34m)\u001b[0m\u001b[0;34m\u001b[0m\u001b[0;34m\u001b[0m\u001b[0m\n\u001b[1;32m     23\u001b[0m     \u001b[0mopen\u001b[0m\u001b[0;34m(\u001b[0m\u001b[0;34m'file.pdf'\u001b[0m\u001b[0;34m,\u001b[0m \u001b[0;34m'wb'\u001b[0m\u001b[0;34m)\u001b[0m\u001b[0;34m.\u001b[0m\u001b[0mwrite\u001b[0m\u001b[0;34m(\u001b[0m\u001b[0mr\u001b[0m\u001b[0;34m.\u001b[0m\u001b[0mcontent\u001b[0m\u001b[0;34m)\u001b[0m\u001b[0;34m\u001b[0m\u001b[0;34m\u001b[0m\u001b[0m\n\u001b[0;32m---> 24\u001b[0;31m     \u001b[0mimages\u001b[0m \u001b[0;34m=\u001b[0m \u001b[0mconvert_from_path\u001b[0m\u001b[0;34m(\u001b[0m\u001b[0;34m'file.pdf'\u001b[0m\u001b[0;34m,\u001b[0m \u001b[0;36m500\u001b[0m\u001b[0;34m)\u001b[0m\u001b[0;34m\u001b[0m\u001b[0;34m\u001b[0m\u001b[0m\n\u001b[0m\u001b[1;32m     25\u001b[0m     \u001b[0;32mreturn\u001b[0m \u001b[0mimages\u001b[0m\u001b[0;34m\u001b[0m\u001b[0;34m\u001b[0m\u001b[0m\n\u001b[1;32m     26\u001b[0m \u001b[0;34m\u001b[0m\u001b[0m\n",
            "\u001b[0;32m/usr/local/lib/python3.8/dist-packages/pdf2image/pdf2image.py\u001b[0m in \u001b[0;36mconvert_from_path\u001b[0;34m(pdf_path, dpi, output_folder, first_page, last_page, fmt, jpegopt, thread_count, userpw, use_cropbox, strict, transparent, single_file, output_file, poppler_path, grayscale, size, paths_only, use_pdftocairo, timeout, hide_annotations)\u001b[0m\n\u001b[1;32m     96\u001b[0m         \u001b[0mpoppler_path\u001b[0m \u001b[0;34m=\u001b[0m \u001b[0mpoppler_path\u001b[0m\u001b[0;34m.\u001b[0m\u001b[0mas_posix\u001b[0m\u001b[0;34m(\u001b[0m\u001b[0;34m)\u001b[0m\u001b[0;34m\u001b[0m\u001b[0;34m\u001b[0m\u001b[0m\n\u001b[1;32m     97\u001b[0m \u001b[0;34m\u001b[0m\u001b[0m\n\u001b[0;32m---> 98\u001b[0;31m     \u001b[0mpage_count\u001b[0m \u001b[0;34m=\u001b[0m \u001b[0mpdfinfo_from_path\u001b[0m\u001b[0;34m(\u001b[0m\u001b[0mpdf_path\u001b[0m\u001b[0;34m,\u001b[0m \u001b[0muserpw\u001b[0m\u001b[0;34m,\u001b[0m \u001b[0mpoppler_path\u001b[0m\u001b[0;34m=\u001b[0m\u001b[0mpoppler_path\u001b[0m\u001b[0;34m)\u001b[0m\u001b[0;34m[\u001b[0m\u001b[0;34m\"Pages\"\u001b[0m\u001b[0;34m]\u001b[0m\u001b[0;34m\u001b[0m\u001b[0;34m\u001b[0m\u001b[0m\n\u001b[0m\u001b[1;32m     99\u001b[0m \u001b[0;34m\u001b[0m\u001b[0m\n\u001b[1;32m    100\u001b[0m     \u001b[0;31m# We start by getting the output format, the buffer processing function and if we need pdftocairo\u001b[0m\u001b[0;34m\u001b[0m\u001b[0;34m\u001b[0m\u001b[0;34m\u001b[0m\u001b[0m\n",
            "\u001b[0;32m/usr/local/lib/python3.8/dist-packages/pdf2image/pdf2image.py\u001b[0m in \u001b[0;36mpdfinfo_from_path\u001b[0;34m(pdf_path, userpw, poppler_path, rawdates, timeout)\u001b[0m\n\u001b[1;32m    486\u001b[0m         )\n\u001b[1;32m    487\u001b[0m     \u001b[0;32mexcept\u001b[0m \u001b[0mValueError\u001b[0m\u001b[0;34m:\u001b[0m\u001b[0;34m\u001b[0m\u001b[0;34m\u001b[0m\u001b[0m\n\u001b[0;32m--> 488\u001b[0;31m         raise PDFPageCountError(\n\u001b[0m\u001b[1;32m    489\u001b[0m             \u001b[0;34m\"Unable to get page count.\\n%s\"\u001b[0m \u001b[0;34m%\u001b[0m \u001b[0merr\u001b[0m\u001b[0;34m.\u001b[0m\u001b[0mdecode\u001b[0m\u001b[0;34m(\u001b[0m\u001b[0;34m\"utf8\"\u001b[0m\u001b[0;34m,\u001b[0m \u001b[0;34m\"ignore\"\u001b[0m\u001b[0;34m)\u001b[0m\u001b[0;34m\u001b[0m\u001b[0;34m\u001b[0m\u001b[0m\n\u001b[1;32m    490\u001b[0m         )\n",
            "\u001b[0;31mPDFPageCountError\u001b[0m: Unable to get page count.\nSyntax Warning: May not be a PDF file (continuing anyway)\nSyntax Error (2): Illegal character <21> in hex string\nSyntax Error (4): Illegal character <4f> in hex string\nSyntax Error (6): Illegal character <54> in hex string\nSyntax Error (7): Illegal character <59> in hex string\nSyntax Error (8): Illegal character <50> in hex string\nSyntax Error (11): Illegal character <68> in hex string\nSyntax Error (12): Illegal character <74> in hex string\nSyntax Error (13): Illegal character <6d> in hex string\nSyntax Error (14): Illegal character <6c> in hex string\nSyntax Error (17): Illegal character <68> in hex string\nSyntax Error (18): Illegal character <74> in hex string\nSyntax Error (19): Illegal character <6d> in hex string\nSyntax Error (20): Illegal character <6c> in hex string\nSyntax Error (22): Illegal character <6c> in hex string\nSyntax Error (24): Illegal character <6e> in hex string\nSyntax Error (25): Illegal character <67> in hex string\nSyntax Error (26): Illegal character <3d> in hex string\nSyntax Error (27): Illegal character <22> in hex string\nSyntax Error (29): Illegal character <6e> in hex string\nSyntax Error (30): Illegal character <22> in hex string\nSyntax Error (33): Illegal character <68> in hex string\nSyntax Error (39): Illegal character <6d> in hex string\nSyntax Error (41): Illegal character <74> in hex string\nSyntax Error (44): Illegal character <6e> in hex string\nSyntax Error (46): Illegal character <6d> in hex string\nSyntax Error (48): Illegal character <3d> in hex string\nSyntax Error (49): Illegal character <22> in hex string\nSyntax Error (52): Illegal character <73> in hex string\nSyntax Error (54): Illegal character <72> in hex string\nSyntax Error (55): Illegal character <69> in hex string\nSyntax Error (56): Illegal character <70> in hex string\nSyntax Error (57): Illegal character <74> in hex string\nSyntax Error (58): Illegal character <69> in hex string\nSyntax Error (59): Illegal character <6f> in hex string\nSyntax Error (60): Illegal character <6e> in hex string\nSyntax Error (61): Illegal character <22> in hex string\nSyntax Error (64): Illegal character <6f> in hex string\nSyntax Error (65): Illegal character <6e> in hex string\nSyntax Error (66): Illegal character <74> in hex string\nSyntax Error (68): Illegal character <6e> in hex string\nSyntax Error (69): Illegal character <74> in hex string\nSyntax Error (70): Illegal character <3d> in hex string\nSyntax Error (71): Illegal character <22> in hex string\nSyntax Error (72): Illegal character <57> in hex string\nSyntax Error (76): Illegal character <77> in hex string\nSyntax Error (77): Illegal character <6f> in hex string\nSyntax Error (78): Illegal character <72> in hex string\nSyntax Error (81): Illegal character <70> in hex string\nSyntax Error (82): Illegal character <72> in hex string\nSyntax Error (83): Illegal character <6f> in hex string\nSyntax Error (86): Illegal character <73> in hex string\nSyntax Error (87): Illegal character <73> in hex string\nSyntax Error (88): Illegal character <69> in hex string\nSyntax Error (89): Illegal character <6e> in hex string\nSyntax Error (90): Illegal character <67> in hex string\nSyntax Error (91): Illegal character <2c> in hex string\nSyntax Error (93): Illegal character <73> in hex string\nSyntax Error (94): Illegal character <70> in hex string\nSyntax Error (95): Illegal character <72> in hex string\nSyntax Error (99): Illegal character <73> in hex string\nSyntax Error (100): Illegal character <68> in hex string\nSyntax Error (103): Illegal character <74> in hex string\nSyntax Error (104): Illegal character <73> in hex string\nSyntax Error (107): Illegal character <6e> in hex string\nSyntax Error (110): Illegal character <70> in hex string\nSyntax Error (111): Illegal character <72> in hex string\nSyntax Error (113): Illegal character <73> in hex string\nSyntax Error (115): Illegal character <6e> in hex string\nSyntax Error (116): Illegal character <74> in hex string\nSyntax Error (118): Illegal character <74> in hex string\nSyntax Error (119): Illegal character <69> in hex string\nSyntax Error (120): Illegal character <6f> in hex string\nSyntax Error (121): Illegal character <6e> in hex string\nSyntax Error (122): Illegal character <73> in hex string\nSyntax Error (123): Illegal character <22> in hex string\nSyntax Error (126): Illegal character <6d> in hex string\nSyntax Error (128): Illegal character <74> in hex string\nSyntax Error (131): Illegal character <6e> in hex string\nSyntax Error (133): Illegal character <6d> in hex string\nSyntax Error (135): Illegal character <3d> in hex string\nSyntax Error (136): Illegal character <22> in hex string\nSyntax Error (137): Illegal character <76> in hex string\nSyntax Error (138): Illegal character <69> in hex string\nSyntax Error (140): Illegal character <77> in hex string\nSyntax Error (141): Illegal character <70> in hex string\nSyntax Error (142): Illegal character <6f> in hex string\nSyntax Error (143): Illegal character <72> in hex string\nSyntax Error (144): Illegal character <74> in hex string\nSyntax Error (145): Illegal character <22> in hex string\nSyntax Error (148): Illegal character <6f> in hex string\nSyntax Error (149): Illegal character <6e> in hex string\nSyntax Error (150): Illegal character <74> in hex string\nSyntax Error (152): Illegal character <6e> in hex string\nSyntax Error (153): Illegal character <74> in hex string\nSyntax Error (154): Illegal character <3d> in hex string\nSyntax Error (155): Illegal character <22> in hex string\nSyntax Error (156): Illegal character <77> in hex string\nSyntax Error (157): Illegal character <69> in hex string\nSyntax Error (159): Illegal character <74> in hex string\nSyntax Error (160): Illegal character <68> in hex string\nSyntax Error (161): Illegal character <3d> in hex string\nSyntax Error (164): Illegal character <76> in hex string\nSyntax Error (165): Illegal character <69> in hex string\nSyntax Error (168): Illegal character <2d> in hex string\nSyntax Error (169): Illegal character <77> in hex string\nSyntax Error (170): Illegal character <69> in hex string\nSyntax Error (172): Illegal character <74> in hex string\nSyntax Error (173): Illegal character <68> in hex string\nSyntax Error (174): Illegal character <2c> in hex string\nSyntax Error (176): Illegal character <69> in hex string\nSyntax Error (177): Illegal character <6e> in hex string\nSyntax Error (178): Illegal character <69> in hex string\nSyntax Error (179): Illegal character <74> in hex string\nSyntax Error (180): Illegal character <69> in hex string\nSyntax Error (182): Illegal character <6c> in hex string\nSyntax Error (183): Illegal character <2d> in hex string\nSyntax Error (184): Illegal character <73> in hex string\nSyntax Error (187): Illegal character <6c> in hex string\nSyntax Error (189): Illegal character <3d> in hex string\nSyntax Error (191): Illegal character <2e> in hex string\nSyntax Error (193): Illegal character <2c> in hex string\nSyntax Error (195): Illegal character <6d> in hex string\nSyntax Error (197): Illegal character <78> in hex string\nSyntax Error (198): Illegal character <69> in hex string\nSyntax Error (199): Illegal character <6d> in hex string\nSyntax Error (200): Illegal character <75> in hex string\nSyntax Error (201): Illegal character <6d> in hex string\nSyntax Error (202): Illegal character <2d> in hex string\nSyntax Error (203): Illegal character <73> in hex string\nSyntax Error (206): Illegal character <6c> in hex string\nSyntax Error (208): Illegal character <3d> in hex string\nSyntax Error (210): Illegal character <2e> in hex string\nSyntax Error (212): Illegal character <2c> in hex string\nSyntax Error (214): Illegal character <6d> in hex string\nSyntax Error (215): Illegal character <69> in hex string\nSyntax Error (216): Illegal character <6e> in hex string\nSyntax Error (217): Illegal character <69> in hex string\nSyntax Error (218): Illegal character <6d> in hex string\nSyntax Error (219): Illegal character <75> in hex string\nSyntax Error (220): Illegal character <6d> in hex string\nSyntax Error (221): Illegal character <2d> in hex string\nSyntax Error (222): Illegal character <73> in hex string\nSyntax Error (225): Illegal character <6c> in hex string\nSyntax Error (227): Illegal character <3d> in hex string\nSyntax Error (229): Illegal character <2e> in hex string\nSyntax Error (231): Illegal character <2c> in hex string\nSyntax Error (233): Illegal character <75> in hex string\nSyntax Error (234): Illegal character <73> in hex string\nSyntax Error (236): Illegal character <72> in hex string\nSyntax Error (237): Illegal character <2d> in hex string\nSyntax Error (238): Illegal character <73> in hex string\nSyntax Error (241): Illegal character <6c> in hex string\nSyntax Error (244): Illegal character <6c> in hex string\nSyntax Error (246): Illegal character <3d> in hex string\nSyntax Error (248): Illegal character <22> in hex string\nSyntax Error (251): Illegal character <6c> in hex string\nSyntax Error (252): Illegal character <69> in hex string\nSyntax Error (253): Illegal character <6e> in hex string\nSyntax Error (254): Illegal character <6b> in hex string\nSyntax Error (256): Illegal character <72> in hex string\nSyntax Error (258): Illegal character <6c> in hex string\nSyntax Error (259): Illegal character <3d> in hex string\nSyntax Error (260): Illegal character <22> in hex string\nSyntax Error (261): Illegal character <73> in hex string\nSyntax Error (262): Illegal character <68> in hex string\nSyntax Error (263): Illegal character <6f> in hex string\nSyntax Error (264): Illegal character <72> in hex string\nSyntax Error (265): Illegal character <74> in hex string\nSyntax Error (267): Illegal character <75> in hex string\nSyntax Error (268): Illegal character <74> in hex string\nSyntax Error (270): Illegal character <69> in hex string\nSyntax Error (272): Illegal character <6f> in hex string\nSyntax Error (273): Illegal character <6e> in hex string\nSyntax Error (274): Illegal character <22> in hex string\nSyntax Error (276): Illegal character <68> in hex string\nSyntax Error (277): Illegal character <72> in hex string\nSyntax Error (280): Illegal character <3d> in hex string\nSyntax Error (281): Illegal character <22> in hex string\nSyntax Error (282): Illegal character <2f> in hex string\nSyntax Error (283): Illegal character <2f> in hex string\nSyntax Error (285): Illegal character <6f> in hex string\nSyntax Error (287): Illegal character <73> in hex string\nSyntax Error (288): Illegal character <2e> in hex string\nSyntax Error (289): Illegal character <67> in hex string\nSyntax Error (290): Illegal character <6f> in hex string\nSyntax Error (291): Illegal character <6f> in hex string\nSyntax Error (292): Illegal character <67> in hex string\nSyntax Error (293): Illegal character <6c> in hex string\nSyntax Error (295): Illegal character <2e> in hex string\nSyntax Error (297): Illegal character <6f> in hex string\nSyntax Error (298): Illegal character <6d> in hex string\nSyntax Error (299): Illegal character <2f> in hex string\nSyntax Error (302): Illegal character <76> in hex string\nSyntax Error (303): Illegal character <69> in hex string\nSyntax Error (305): Illegal character <6f> in hex string\nSyntax Error (306): Illegal character <6e> in hex string\nSyntax Error (307): Illegal character <2e> in hex string\nSyntax Error (308): Illegal character <69> in hex string\nSyntax Error (310): Illegal character <6f> in hex string\nSyntax Error (311): Illegal character <22> in hex string\nSyntax Error: Couldn't find trailer dictionary\nSyntax Error: Couldn't find trailer dictionary\nSyntax Error: Couldn't read xref table\n"
          ]
        }
      ],
      "source": [
        "images = []\n",
        "\n",
        "for image in get_slides(url): \n",
        "\n",
        "    plot(image)\n",
        "\n",
        "    images.append(load(image))\n",
        "\n",
        "images = torch.vstack(images)"
      ]
    },
    {
      "cell_type": "code",
      "execution_count": null,
      "metadata": {
        "colab": {
          "base_uri": "https://localhost:8080/",
          "height": 165
        },
        "id": "uKsUVAPdQwmP",
        "outputId": "5469ed6c-f5ff-40d9-a382-fd71650ef0e2"
      },
      "outputs": [
        {
          "output_type": "error",
          "ename": "AttributeError",
          "evalue": "ignored",
          "traceback": [
            "\u001b[0;31m---------------------------------------------------------------------------\u001b[0m",
            "\u001b[0;31mAttributeError\u001b[0m                            Traceback (most recent call last)",
            "\u001b[0;32m<ipython-input-12-972d9bbd0d84>\u001b[0m in \u001b[0;36m<module>\u001b[0;34m\u001b[0m\n\u001b[0;32m----> 1\u001b[0;31m \u001b[0mimages\u001b[0m\u001b[0;34m.\u001b[0m\u001b[0mshape\u001b[0m\u001b[0;34m\u001b[0m\u001b[0;34m\u001b[0m\u001b[0m\n\u001b[0m",
            "\u001b[0;31mAttributeError\u001b[0m: 'list' object has no attribute 'shape'"
          ]
        }
      ],
      "source": [
        "images.shape"
      ]
    },
    {
      "cell_type": "code",
      "execution_count": null,
      "metadata": {
        "colab": {
          "background_save": true
        },
        "id": "fJlgt1avR3I9"
      },
      "outputs": [],
      "source": [
        "model(images)"
      ]
    },
    {
      "cell_type": "code",
      "execution_count": null,
      "metadata": {
        "colab": {
          "background_save": true
        },
        "id": "lgGzMREYR3LN"
      },
      "outputs": [],
      "source": [
        "y = model(images)"
      ]
    },
    {
      "cell_type": "code",
      "execution_count": null,
      "metadata": {
        "colab": {
          "background_save": true
        },
        "id": "L3NVy8_7T_rb"
      },
      "outputs": [],
      "source": [
        "y.shape"
      ]
    },
    {
      "cell_type": "code",
      "execution_count": null,
      "metadata": {
        "colab": {
          "background_save": true
        },
        "id": "UsYfYT6UR3Nn"
      },
      "outputs": [],
      "source": [
        "guesses = torch.argmax(y, 1).cpu().numpy()"
      ]
    },
    {
      "cell_type": "code",
      "execution_count": null,
      "metadata": {
        "colab": {
          "background_save": true
        },
        "id": "QvSec8rITW7T"
      },
      "outputs": [],
      "source": [
        "for i in list(guesses):\n",
        "    print(labels[i])"
      ]
    },
    {
      "cell_type": "code",
      "execution_count": null,
      "metadata": {
        "colab": {
          "background_save": true
        },
        "id": "CALvf79gjAY-"
      },
      "outputs": [],
      "source": [
        "Y = np.zeros(50,)\n",
        "Y[25:] = 1"
      ]
    },
    {
      "cell_type": "code",
      "execution_count": null,
      "metadata": {
        "colab": {
          "background_save": true
        },
        "id": "HSF3ICfP04kM"
      },
      "outputs": [],
      "source": [
        "Y"
      ]
    },
    {
      "cell_type": "code",
      "execution_count": null,
      "metadata": {
        "colab": {
          "background_save": true
        },
        "id": "ZqvMEcxhY6dl"
      },
      "outputs": [],
      "source": [
        "X = y.detach().cpu().numpy() "
      ]
    },
    {
      "cell_type": "code",
      "execution_count": null,
      "metadata": {
        "colab": {
          "background_save": true
        },
        "id": "KqPB9TKyEJCS"
      },
      "outputs": [],
      "source": [
        "X.shape"
      ]
    },
    {
      "cell_type": "code",
      "execution_count": null,
      "metadata": {
        "colab": {
          "background_save": true
        },
        "id": "OB9J8q8LEgCG"
      },
      "outputs": [],
      "source": [
        "plt.plot(X[0],'.')"
      ]
    },
    {
      "cell_type": "code",
      "execution_count": null,
      "metadata": {
        "colab": {
          "background_save": true
        },
        "id": "_pfcg2h51IQr"
      },
      "outputs": [],
      "source": [
        "X[0]"
      ]
    },
    {
      "cell_type": "code",
      "execution_count": null,
      "metadata": {
        "colab": {
          "background_save": true
        },
        "id": "BaHI4-u_1O87"
      },
      "outputs": [],
      "source": [
        "np.argmax(X[0])"
      ]
    },
    {
      "cell_type": "code",
      "execution_count": null,
      "metadata": {
        "colab": {
          "background_save": true
        },
        "id": "lEJfAcaM2mdG"
      },
      "outputs": [],
      "source": [
        "labels[948]"
      ]
    },
    {
      "cell_type": "code",
      "execution_count": null,
      "metadata": {
        "colab": {
          "background_save": true
        },
        "id": "r3wq2fNM13K9"
      },
      "outputs": [],
      "source": [
        "top_ten = np.argsort(X[0])[::-1][0:10]"
      ]
    },
    {
      "cell_type": "code",
      "execution_count": null,
      "metadata": {
        "colab": {
          "background_save": true
        },
        "id": "d3awGR9i18os"
      },
      "outputs": [],
      "source": [
        "for i in top_ten:\n",
        "    print(labels[i])"
      ]
    },
    {
      "cell_type": "code",
      "execution_count": null,
      "metadata": {
        "colab": {
          "background_save": true
        },
        "id": "SXOMKyB_1Zfa"
      },
      "outputs": [],
      "source": [
        "labels"
      ]
    },
    {
      "cell_type": "code",
      "execution_count": null,
      "metadata": {
        "colab": {
          "background_save": true
        },
        "id": "cetMFwBQngCQ"
      },
      "outputs": [],
      "source": [
        "plt.hist(X[0])"
      ]
    },
    {
      "cell_type": "code",
      "execution_count": null,
      "metadata": {
        "colab": {
          "background_save": true
        },
        "id": "zBt4rsdIefV_"
      },
      "outputs": [],
      "source": [
        "X = GPU_data(X)\n",
        "Y = GPU_data(Y)"
      ]
    },
    {
      "cell_type": "code",
      "execution_count": null,
      "metadata": {
        "colab": {
          "background_save": true
        },
        "id": "m4BlYG-CgC2z"
      },
      "outputs": [],
      "source": [
        "def softmax(x):\n",
        "    s1 = torch.exp(x - torch.max(x,1)[0][:,None])\n",
        "    s = s1 / s1.sum(1)[:,None]\n",
        "    return s"
      ]
    },
    {
      "cell_type": "code",
      "execution_count": null,
      "metadata": {
        "colab": {
          "background_save": true
        },
        "id": "XZ-UV8W_c_9o"
      },
      "outputs": [],
      "source": [
        "def cross_entropy(outputs, labels):            \n",
        "    return -torch.sum(softmax(outputs).log()[range(outputs.size()[0]), labels.long()])/outputs.size()[0]  "
      ]
    },
    {
      "cell_type": "code",
      "execution_count": null,
      "metadata": {
        "colab": {
          "background_save": true
        },
        "id": "wtL1kZcZICVP"
      },
      "outputs": [],
      "source": [
        "def randn_trunc(s): #Truncated Normal Random Numbers\n",
        "    mu = 0 \n",
        "    sigma = 0.1\n",
        "    R = stats.truncnorm((-2*sigma - mu) / sigma, (2*sigma - mu) / sigma, loc=mu, scale=sigma)\n",
        "    return R.rvs(s)"
      ]
    },
    {
      "cell_type": "code",
      "execution_count": null,
      "metadata": {
        "colab": {
          "background_save": true
        },
        "id": "wPQjN4JwYHAz"
      },
      "outputs": [],
      "source": [
        "def Truncated_Normal(size):\n",
        "\n",
        "    u1 = torch.rand(size)*(1-np.exp(-2)) + np.exp(-2)\n",
        "    u2 = torch.rand(size)\n",
        "    z  = torch.sqrt(-2*torch.log(u1)) * torch.cos(2*np.pi*u2)\n",
        "\n",
        "    return z"
      ]
    },
    {
      "cell_type": "code",
      "execution_count": null,
      "metadata": {
        "colab": {
          "background_save": true
        },
        "id": "LW3ttVcq1sI9"
      },
      "outputs": [],
      "source": [
        "def acc(out,y):\n",
        "    with torch.no_grad():\n",
        "        return (torch.sum(torch.max(out,1)[1] == y).item())/y.shape[0]"
      ]
    },
    {
      "cell_type": "code",
      "execution_count": null,
      "metadata": {
        "colab": {
          "background_save": true
        },
        "id": "5UXgio04fyvz"
      },
      "outputs": [],
      "source": [
        "X.shape"
      ]
    },
    {
      "cell_type": "code",
      "execution_count": null,
      "metadata": {
        "colab": {
          "background_save": true
        },
        "id": "x79Sie8XKPOC"
      },
      "outputs": [],
      "source": [
        "def get_batch(mode):\n",
        "    b = c.b\n",
        "    if mode == \"train\":\n",
        "        r = np.random.randint(X.shape[0]-b) \n",
        "        x = X[r:r+b,:]\n",
        "        y = Y[r:r+b]\n",
        "    elif mode == \"test\":\n",
        "        r = np.random.randint(X_test.shape[0]-b)\n",
        "        x = X_test[r:r+b,:]\n",
        "        y = Y_test[r:r+b]\n",
        "    return x,y"
      ]
    },
    {
      "cell_type": "code",
      "execution_count": null,
      "metadata": {
        "colab": {
          "background_save": true
        },
        "id": "vXOr9aM8A8P-"
      },
      "outputs": [],
      "source": [
        "def model(x,w):\n",
        "\n",
        "    return x@w[0]"
      ]
    },
    {
      "cell_type": "code",
      "execution_count": null,
      "metadata": {
        "colab": {
          "background_save": true
        },
        "id": "uzRsuDek9Fve"
      },
      "outputs": [],
      "source": [
        "def make_plots():\n",
        "    \n",
        "    acc_train = acc(model(x,w),y)\n",
        "    \n",
        "    # xt,yt = get_batch('test')\n",
        "\n",
        "    # acc_test = acc(model(xt,w),yt)\n",
        "\n",
        "    wb.log({\"acc_train\": acc_train})"
      ]
    },
    {
      "cell_type": "code",
      "execution_count": null,
      "metadata": {
        "colab": {
          "background_save": true
        },
        "id": "WANJibeUNghZ"
      },
      "outputs": [],
      "source": [
        "wb.init(project=\"Linear_Model_Photo_1\");\n",
        "c = wb.config\n",
        "\n",
        "c.h = 0.001\n",
        "c.b = 32\n",
        "c.epochs = 100000\n",
        "\n",
        "w = [GPU(Truncated_Normal((1000,2)))]\n",
        "\n",
        "optimizer = torch.optim.Adam(w, lr=c.h)  \n",
        "\n",
        "for i in range(c.epochs):\n",
        "\n",
        "    x,y = get_batch('train')\n",
        "\n",
        "    loss = cross_entropy(softmax(model(x,w)),y)\n",
        "\n",
        "    optimizer.zero_grad()\n",
        "    loss.backward()\n",
        "    optimizer.step()\n",
        "   \n",
        "    wb.log({\"loss\": loss})\n",
        "\n",
        "    make_plots()\n"
      ]
    },
    {
      "cell_type": "markdown",
      "metadata": {
        "id": "sI--oRHS7Olk"
      },
      "source": [
        "https://tensorspace.org/"
      ]
    },
    {
      "cell_type": "code",
      "execution_count": null,
      "metadata": {
        "colab": {
          "background_save": true
        },
        "id": "VGdS4Ccv3ToX"
      },
      "outputs": [],
      "source": []
    },
    {
      "cell_type": "code",
      "execution_count": null,
      "metadata": {
        "id": "cogMnVmoY6fs"
      },
      "outputs": [],
      "source": []
    },
    {
      "cell_type": "code",
      "execution_count": null,
      "metadata": {
        "id": "numPOTfxY6h8"
      },
      "outputs": [],
      "source": []
    },
    {
      "cell_type": "code",
      "execution_count": null,
      "metadata": {
        "id": "9H5XxYs2Y6jl"
      },
      "outputs": [],
      "source": []
    },
    {
      "cell_type": "code",
      "execution_count": null,
      "metadata": {
        "id": "dnuZwveTjkLb"
      },
      "outputs": [],
      "source": []
    },
    {
      "cell_type": "code",
      "execution_count": null,
      "metadata": {
        "id": "Iqz6xc5VjkNo"
      },
      "outputs": [],
      "source": []
    },
    {
      "cell_type": "code",
      "execution_count": null,
      "metadata": {
        "id": "gfnOAreBjkPo"
      },
      "outputs": [],
      "source": []
    },
    {
      "cell_type": "code",
      "execution_count": null,
      "metadata": {
        "id": "M052UNm_OwV5"
      },
      "outputs": [],
      "source": []
    },
    {
      "cell_type": "code",
      "execution_count": null,
      "metadata": {
        "id": "-iAwNrgSOwX3"
      },
      "outputs": [],
      "source": []
    },
    {
      "cell_type": "code",
      "execution_count": null,
      "metadata": {
        "id": "isgUmuudOwaP"
      },
      "outputs": [],
      "source": []
    },
    {
      "cell_type": "code",
      "execution_count": null,
      "metadata": {
        "id": "44_in1VIjkRr"
      },
      "outputs": [],
      "source": []
    }
  ],
  "metadata": {
    "accelerator": "GPU",
    "colab": {
      "provenance": [],
      "include_colab_link": true
    },
    "gpuClass": "standard",
    "kernelspec": {
      "display_name": "Python 3",
      "name": "python3"
    },
    "language_info": {
      "name": "python"
    }
  },
  "nbformat": 4,
  "nbformat_minor": 0
}